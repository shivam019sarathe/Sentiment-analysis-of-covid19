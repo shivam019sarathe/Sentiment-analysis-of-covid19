{
  "nbformat": 4,
  "nbformat_minor": 0,
  "metadata": {
    "colab": {
      "name": "2020_part_3point1.ipynb",
      "provenance": [],
      "collapsed_sections": [],
      "authorship_tag": "ABX9TyNvSTlLeWftn3j2OR1RJwlL",
      "include_colab_link": true
    },
    "kernelspec": {
      "name": "python3",
      "display_name": "Python 3"
    }
  },
  "cells": [
    {
      "cell_type": "markdown",
      "metadata": {
        "id": "view-in-github",
        "colab_type": "text"
      },
      "source": [
        "<a href=\"https://colab.research.google.com/github/shivam019sarathe/Sentiment-analysis-of-covid19/blob/master/2020_part_3point1.ipynb\" target=\"_parent\"><img src=\"https://colab.research.google.com/assets/colab-badge.svg\" alt=\"Open In Colab\"/></a>"
      ]
    },
    {
      "cell_type": "code",
      "metadata": {
        "id": "jnVSZbW64ikY",
        "colab_type": "code",
        "colab": {}
      },
      "source": [
        "import tweepy\n",
        "from textblob import TextBlob\n",
        "import pandas as pd\n",
        "import numpy as np \n",
        "from wordcloud import WordCloud\n",
        "import re\n",
        "import matplotlib.pyplot as plt\n",
        "plt.style.use('fivethirtyeight')"
      ],
      "execution_count": 0,
      "outputs": []
    },
    {
      "cell_type": "code",
      "metadata": {
        "id": "jv52gs0f6Ner",
        "colab_type": "code",
        "colab": {}
      },
      "source": [
        "#Twitter api credentials\n",
        "ConsumerKey       =  'DLverWWCfQ2QkfjLeeSl1FbIL'\n",
        "ConsumerSecret    =  'PEMb50ExW0v82cmYrFY2Q3xKd6DthQznk8JpyBJpNHEzdpEx4v'\n",
        "accessToken       =  '1223257823141777408-xckU6rEdRtcSROFobeG0k37Uuwuc4E'\n",
        "accessTokenSecret =  'Vqt8I5ujOWjqKFxf3l0awLiMXlHuxmzlyMJHKchnCpDot'"
      ],
      "execution_count": 0,
      "outputs": []
    },
    {
      "cell_type": "code",
      "metadata": {
        "id": "Cmm7QNfv6U5T",
        "colab_type": "code",
        "colab": {}
      },
      "source": [
        "#Create the Authentication object\n",
        "authenticate  = tweepy.OAuthHandler(ConsumerKey,ConsumerSecret)\n",
        "\n",
        "#set the access token\n",
        "authenticate.set_access_token(accessToken,accessTokenSecret)\n",
        "\n",
        "#create the api object while passing in the authenticate information\n",
        "api = tweepy.API(authenticate, wait_on_rate_limit=True)"
      ],
      "execution_count": 0,
      "outputs": []
    },
    {
      "cell_type": "code",
      "metadata": {
        "id": "YPoNXjitTgzj",
        "colab_type": "code",
        "colab": {}
      },
      "source": [
        "#multiple list carries different info. of fetched tweet\n",
        "tweets_text = []\n",
        "tweets_id= []\n",
        "tweets_date = []\n",
        "tweets_time = []\n",
        "tweets_retweet_count = []\n",
        "try:\n",
        "# Pulling individual tweets from query\n",
        "    i=0\n",
        "    for tweet in tweepy.Cursor(api.search , q='#covid19 -filter:retweets '  , count=100 , lang='en').items():\n",
        "# Adding to list that contains all tweets\n",
        "      tweets_text.append((tweet.text))\n",
        "      tweets_id.append(tweet.id)\n",
        "      tweets_date.append(tweet.created_at.date())\n",
        "      tweets_time.append(tweet.created_at.time())\n",
        "      tweets_retweet_count.append(tweet.retweet_count)\n",
        "      i=i+1\n",
        "      if i == 5000:\n",
        "        break\n",
        "      else:\n",
        "        pass\n",
        "except BaseException as e:\n",
        "    print('failed on_status,',str(e))\n",
        "\n",
        "\n",
        "\n"
      ],
      "execution_count": 0,
      "outputs": []
    },
    {
      "cell_type": "code",
      "metadata": {
        "id": "DDZT-zDWVwL3",
        "colab_type": "code",
        "colab": {}
      },
      "source": [
        "#creating dataframe of tweet_text\n",
        "twitter_df_text = pd.DataFrame(tweets_text,columns=['Tweet'])\n",
        "\n",
        "#df of id \n",
        "twitter_df_id = pd.DataFrame(tweets_id,columns=['id'])\n",
        "\n",
        "#df of date\n",
        "twitter_df_date = pd.DataFrame(tweets_date,columns=['Date'])\n",
        "\n",
        "#df of time\n",
        "twitter_df_time = pd.DataFrame(tweets_time,columns=['Time'])\n",
        "\n",
        "#df of retweet_count\n",
        "twitter_df_retweet_count = pd.DataFrame(tweets_retweet_count,columns=['Retweet_count'])\n"
      ],
      "execution_count": 0,
      "outputs": []
    },
    {
      "cell_type": "code",
      "metadata": {
        "id": "4zROyo6Q9s9q",
        "colab_type": "code",
        "outputId": "0e511590-bad7-4a1d-98f6-40a4f0958d8c",
        "colab": {
          "base_uri": "https://localhost:8080/",
          "height": 408
        }
      },
      "source": [
        "#concatenating all the sub dataframes\n",
        "twitter_df = pd.concat([twitter_df_id,twitter_df_date,twitter_df_time,twitter_df_text,twitter_df_retweet_count],axis=1)\n",
        "twitter_df.info()\n",
        "twitter_df.head(5)"
      ],
      "execution_count": 7,
      "outputs": [
        {
          "output_type": "stream",
          "text": [
            "<class 'pandas.core.frame.DataFrame'>\n",
            "RangeIndex: 5000 entries, 0 to 4999\n",
            "Data columns (total 5 columns):\n",
            " #   Column         Non-Null Count  Dtype \n",
            "---  ------         --------------  ----- \n",
            " 0   id             5000 non-null   int64 \n",
            " 1   Date           5000 non-null   object\n",
            " 2   Time           5000 non-null   object\n",
            " 3   Tweet          5000 non-null   object\n",
            " 4   Retweet_count  5000 non-null   int64 \n",
            "dtypes: int64(2), object(3)\n",
            "memory usage: 195.4+ KB\n"
          ],
          "name": "stdout"
        },
        {
          "output_type": "execute_result",
          "data": {
            "text/html": [
              "<div>\n",
              "<style scoped>\n",
              "    .dataframe tbody tr th:only-of-type {\n",
              "        vertical-align: middle;\n",
              "    }\n",
              "\n",
              "    .dataframe tbody tr th {\n",
              "        vertical-align: top;\n",
              "    }\n",
              "\n",
              "    .dataframe thead th {\n",
              "        text-align: right;\n",
              "    }\n",
              "</style>\n",
              "<table border=\"1\" class=\"dataframe\">\n",
              "  <thead>\n",
              "    <tr style=\"text-align: right;\">\n",
              "      <th></th>\n",
              "      <th>id</th>\n",
              "      <th>Date</th>\n",
              "      <th>Time</th>\n",
              "      <th>Tweet</th>\n",
              "      <th>Retweet_count</th>\n",
              "    </tr>\n",
              "  </thead>\n",
              "  <tbody>\n",
              "    <tr>\n",
              "      <th>0</th>\n",
              "      <td>1268236906426482688</td>\n",
              "      <td>2020-06-03</td>\n",
              "      <td>17:43:35</td>\n",
              "      <td>Korea #COVID19  EroticaX - Naturally Busty Gab...</td>\n",
              "      <td>0</td>\n",
              "    </tr>\n",
              "    <tr>\n",
              "      <th>1</th>\n",
              "      <td>1268236898935492609</td>\n",
              "      <td>2020-06-03</td>\n",
              "      <td>17:43:34</td>\n",
              "      <td>Let the great #covid19 live on till 2021.. 🤦‍♂...</td>\n",
              "      <td>0</td>\n",
              "    </tr>\n",
              "    <tr>\n",
              "      <th>2</th>\n",
              "      <td>1268236897794633732</td>\n",
              "      <td>2020-06-03</td>\n",
              "      <td>17:43:33</td>\n",
              "      <td>@stevelanebitch @fordnation Who are these expe...</td>\n",
              "      <td>0</td>\n",
              "    </tr>\n",
              "    <tr>\n",
              "      <th>3</th>\n",
              "      <td>1268236896641024005</td>\n",
              "      <td>2020-06-03</td>\n",
              "      <td>17:43:33</td>\n",
              "      <td>Since the #protest and #riots killed #COVID19 ...</td>\n",
              "      <td>0</td>\n",
              "    </tr>\n",
              "    <tr>\n",
              "      <th>4</th>\n",
              "      <td>1268236890706231304</td>\n",
              "      <td>2020-06-03</td>\n",
              "      <td>17:43:32</td>\n",
              "      <td>#COVID19 Itaewon  daughter with braces sucks s...</td>\n",
              "      <td>0</td>\n",
              "    </tr>\n",
              "  </tbody>\n",
              "</table>\n",
              "</div>"
            ],
            "text/plain": [
              "                    id  ... Retweet_count\n",
              "0  1268236906426482688  ...             0\n",
              "1  1268236898935492609  ...             0\n",
              "2  1268236897794633732  ...             0\n",
              "3  1268236896641024005  ...             0\n",
              "4  1268236890706231304  ...             0\n",
              "\n",
              "[5 rows x 5 columns]"
            ]
          },
          "metadata": {
            "tags": []
          },
          "execution_count": 7
        }
      ]
    },
    {
      "cell_type": "code",
      "metadata": {
        "id": "p9cgCKbBXPp6",
        "colab_type": "code",
        "colab": {
          "base_uri": "https://localhost:8080/",
          "height": 102
        },
        "outputId": "20473d3e-9bf4-4aed-dd43-c8bb46fb39e9"
      },
      "source": [
        "#removing mentioned people\n",
        "import re\n",
        "for i in range(len(twitter_df['Tweet'])):\n",
        "  twitter_df['Tweet'][i] = re.sub(r'@[A-Za-z0-9_A-Za-z0-9]+', '', twitter_df['Tweet'][i])"
      ],
      "execution_count": 8,
      "outputs": [
        {
          "output_type": "stream",
          "text": [
            "/usr/local/lib/python3.6/dist-packages/ipykernel_launcher.py:4: SettingWithCopyWarning: \n",
            "A value is trying to be set on a copy of a slice from a DataFrame\n",
            "\n",
            "See the caveats in the documentation: https://pandas.pydata.org/pandas-docs/stable/user_guide/indexing.html#returning-a-view-versus-a-copy\n",
            "  after removing the cwd from sys.path.\n"
          ],
          "name": "stderr"
        }
      ]
    },
    {
      "cell_type": "code",
      "metadata": {
        "id": "v61oGGdm9tXr",
        "colab_type": "code",
        "colab": {
          "base_uri": "https://localhost:8080/",
          "height": 204
        },
        "outputId": "be584af1-1cc3-4230-ccd8-b6da6f759370"
      },
      "source": [
        "#to remove special characters and punctuation\n",
        "spcl_char = [ '#' , '@' , '$'  , '*' , ':' , ';' , '?' , '/' ,  '!' , '|' , '\\n' , '¿' , '\\n' , ',' ,  '!' , ' \" ','(' , ')' ,'+','-','<', '=', '>' , '[', ' \\ ',']',' ` ',\n",
        "             '{ ', '|' , '}',' ~ '] \n",
        "def char_remove():\n",
        "  for char in spcl_char:\n",
        "    twitter_df['Tweet']  = twitter_df['Tweet'].str.replace(char,\"\")\n",
        "  return twitter_df['Tweet']\n",
        "char_remove()\n",
        "twitter_df.head(5)"
      ],
      "execution_count": 9,
      "outputs": [
        {
          "output_type": "execute_result",
          "data": {
            "text/html": [
              "<div>\n",
              "<style scoped>\n",
              "    .dataframe tbody tr th:only-of-type {\n",
              "        vertical-align: middle;\n",
              "    }\n",
              "\n",
              "    .dataframe tbody tr th {\n",
              "        vertical-align: top;\n",
              "    }\n",
              "\n",
              "    .dataframe thead th {\n",
              "        text-align: right;\n",
              "    }\n",
              "</style>\n",
              "<table border=\"1\" class=\"dataframe\">\n",
              "  <thead>\n",
              "    <tr style=\"text-align: right;\">\n",
              "      <th></th>\n",
              "      <th>id</th>\n",
              "      <th>Date</th>\n",
              "      <th>Time</th>\n",
              "      <th>Tweet</th>\n",
              "      <th>Retweet_count</th>\n",
              "    </tr>\n",
              "  </thead>\n",
              "  <tbody>\n",
              "    <tr>\n",
              "      <th>0</th>\n",
              "      <td>1268236906426482688</td>\n",
              "      <td>2020-06-03</td>\n",
              "      <td>17:43:35</td>\n",
              "      <td>Korea COVID19EroticaXNaturally Busty Gabbie Ca...</td>\n",
              "      <td>0</td>\n",
              "    </tr>\n",
              "    <tr>\n",
              "      <th>1</th>\n",
              "      <td>1268236898935492609</td>\n",
              "      <td>2020-06-03</td>\n",
              "      <td>17:43:34</td>\n",
              "      <td>Let the great covid19 live on till 2021.. 🤦‍♂️...</td>\n",
              "      <td>0</td>\n",
              "    </tr>\n",
              "    <tr>\n",
              "      <th>2</th>\n",
              "      <td>1268236897794633732</td>\n",
              "      <td>2020-06-03</td>\n",
              "      <td>17:43:33</td>\n",
              "      <td>Who are these expertsCertainly not the health ...</td>\n",
              "      <td>0</td>\n",
              "    </tr>\n",
              "    <tr>\n",
              "      <th>3</th>\n",
              "      <td>1268236896641024005</td>\n",
              "      <td>2020-06-03</td>\n",
              "      <td>17:43:33</td>\n",
              "      <td>Since the protest and riots killed COVID19 and...</td>\n",
              "      <td>0</td>\n",
              "    </tr>\n",
              "    <tr>\n",
              "      <th>4</th>\n",
              "      <td>1268236890706231304</td>\n",
              "      <td>2020-06-03</td>\n",
              "      <td>17:43:32</td>\n",
              "      <td>COVID19 Itaewondaughter with braces sucks step...</td>\n",
              "      <td>0</td>\n",
              "    </tr>\n",
              "  </tbody>\n",
              "</table>\n",
              "</div>"
            ],
            "text/plain": [
              "                    id  ... Retweet_count\n",
              "0  1268236906426482688  ...             0\n",
              "1  1268236898935492609  ...             0\n",
              "2  1268236897794633732  ...             0\n",
              "3  1268236896641024005  ...             0\n",
              "4  1268236890706231304  ...             0\n",
              "\n",
              "[5 rows x 5 columns]"
            ]
          },
          "metadata": {
            "tags": []
          },
          "execution_count": 9
        }
      ]
    },
    {
      "cell_type": "code",
      "metadata": {
        "id": "8tEP6pP8JLaH",
        "colab_type": "code",
        "outputId": "06222ff8-0eb7-4711-abd4-71e7fdbc1ec0",
        "colab": {
          "base_uri": "https://localhost:8080/",
          "height": 204
        }
      },
      "source": [
        "#removing link in Tweet if present\n",
        "twitter_df['Tweet'] = twitter_df['Tweet'].str.replace('http\\S+|www.\\S+', '', case=False)\n",
        "twitter_df.head(5)\n"
      ],
      "execution_count": 10,
      "outputs": [
        {
          "output_type": "execute_result",
          "data": {
            "text/html": [
              "<div>\n",
              "<style scoped>\n",
              "    .dataframe tbody tr th:only-of-type {\n",
              "        vertical-align: middle;\n",
              "    }\n",
              "\n",
              "    .dataframe tbody tr th {\n",
              "        vertical-align: top;\n",
              "    }\n",
              "\n",
              "    .dataframe thead th {\n",
              "        text-align: right;\n",
              "    }\n",
              "</style>\n",
              "<table border=\"1\" class=\"dataframe\">\n",
              "  <thead>\n",
              "    <tr style=\"text-align: right;\">\n",
              "      <th></th>\n",
              "      <th>id</th>\n",
              "      <th>Date</th>\n",
              "      <th>Time</th>\n",
              "      <th>Tweet</th>\n",
              "      <th>Retweet_count</th>\n",
              "    </tr>\n",
              "  </thead>\n",
              "  <tbody>\n",
              "    <tr>\n",
              "      <th>0</th>\n",
              "      <td>1268236906426482688</td>\n",
              "      <td>2020-06-03</td>\n",
              "      <td>17:43:35</td>\n",
              "      <td>Korea COVID19EroticaXNaturally Busty Gabbie Ca...</td>\n",
              "      <td>0</td>\n",
              "    </tr>\n",
              "    <tr>\n",
              "      <th>1</th>\n",
              "      <td>1268236898935492609</td>\n",
              "      <td>2020-06-03</td>\n",
              "      <td>17:43:34</td>\n",
              "      <td>Let the great covid19 live on till 2021.. 🤦‍♂️</td>\n",
              "      <td>0</td>\n",
              "    </tr>\n",
              "    <tr>\n",
              "      <th>2</th>\n",
              "      <td>1268236897794633732</td>\n",
              "      <td>2020-06-03</td>\n",
              "      <td>17:43:33</td>\n",
              "      <td>Who are these expertsCertainly not the health ...</td>\n",
              "      <td>0</td>\n",
              "    </tr>\n",
              "    <tr>\n",
              "      <th>3</th>\n",
              "      <td>1268236896641024005</td>\n",
              "      <td>2020-06-03</td>\n",
              "      <td>17:43:33</td>\n",
              "      <td>Since the protest and riots killed COVID19 and...</td>\n",
              "      <td>0</td>\n",
              "    </tr>\n",
              "    <tr>\n",
              "      <th>4</th>\n",
              "      <td>1268236890706231304</td>\n",
              "      <td>2020-06-03</td>\n",
              "      <td>17:43:32</td>\n",
              "      <td>COVID19 Itaewondaughter with braces sucks step...</td>\n",
              "      <td>0</td>\n",
              "    </tr>\n",
              "  </tbody>\n",
              "</table>\n",
              "</div>"
            ],
            "text/plain": [
              "                    id  ... Retweet_count\n",
              "0  1268236906426482688  ...             0\n",
              "1  1268236898935492609  ...             0\n",
              "2  1268236897794633732  ...             0\n",
              "3  1268236896641024005  ...             0\n",
              "4  1268236890706231304  ...             0\n",
              "\n",
              "[5 rows x 5 columns]"
            ]
          },
          "metadata": {
            "tags": []
          },
          "execution_count": 10
        }
      ]
    },
    {
      "cell_type": "code",
      "metadata": {
        "id": "L1Mny9xRJQl8",
        "colab_type": "code",
        "colab": {
          "base_uri": "https://localhost:8080/",
          "height": 204
        },
        "outputId": "08fce1b3-6710-4d0f-a0da-93e43dc4b37e"
      },
      "source": [
        "#to remove ascii characters\n",
        "twitter_df['Tweet']  = twitter_df['Tweet'].str.replace(\"[\"\n",
        "        u\"\\U0001F600-\\U0001F64F\"  # emoticons\n",
        "        u\"\\U0001F300-\\U0001F5FF\"  # symbols & pictographs\n",
        "        u\"\\U0001F680-\\U0001F6FF\"  # transport & map symbols\n",
        "        u\"\\U0001F1E0-\\U0001F1FF\"  # flags (iOS)\n",
        "        u\"\\U00002500-\\U00002BEF\"  # chinese char\n",
        "        u\"\\U00002702-\\U000027B0\"\n",
        "        u\"\\U00002702-\\U000027B0\"\n",
        "        u\"\\U000024C2-\\U0001F251\"\n",
        "        u\"\\U0001f926-\\U0001f937\"\n",
        "        u\"\\U00010000-\\U0010ffff\"\n",
        "        u\"\\u2640-\\u2642\" \n",
        "        u\"\\u2600-\\u2B55\"\n",
        "        u\"\\u200d\"\n",
        "        u\"\\u23cf\"\n",
        "        u\"\\u23e9\"\n",
        "        u\"\\u231a\"\n",
        "        u\"\\ufe0f\"  # dingbats\n",
        "        u\"\\u3030\"\n",
        "                      \"]+\", '')\n",
        "twitter_df.head()"
      ],
      "execution_count": 11,
      "outputs": [
        {
          "output_type": "execute_result",
          "data": {
            "text/html": [
              "<div>\n",
              "<style scoped>\n",
              "    .dataframe tbody tr th:only-of-type {\n",
              "        vertical-align: middle;\n",
              "    }\n",
              "\n",
              "    .dataframe tbody tr th {\n",
              "        vertical-align: top;\n",
              "    }\n",
              "\n",
              "    .dataframe thead th {\n",
              "        text-align: right;\n",
              "    }\n",
              "</style>\n",
              "<table border=\"1\" class=\"dataframe\">\n",
              "  <thead>\n",
              "    <tr style=\"text-align: right;\">\n",
              "      <th></th>\n",
              "      <th>id</th>\n",
              "      <th>Date</th>\n",
              "      <th>Time</th>\n",
              "      <th>Tweet</th>\n",
              "      <th>Retweet_count</th>\n",
              "    </tr>\n",
              "  </thead>\n",
              "  <tbody>\n",
              "    <tr>\n",
              "      <th>0</th>\n",
              "      <td>1268236906426482688</td>\n",
              "      <td>2020-06-03</td>\n",
              "      <td>17:43:35</td>\n",
              "      <td>Korea COVID19EroticaXNaturally Busty Gabbie Ca...</td>\n",
              "      <td>0</td>\n",
              "    </tr>\n",
              "    <tr>\n",
              "      <th>1</th>\n",
              "      <td>1268236898935492609</td>\n",
              "      <td>2020-06-03</td>\n",
              "      <td>17:43:34</td>\n",
              "      <td>Let the great covid19 live on till 2021..</td>\n",
              "      <td>0</td>\n",
              "    </tr>\n",
              "    <tr>\n",
              "      <th>2</th>\n",
              "      <td>1268236897794633732</td>\n",
              "      <td>2020-06-03</td>\n",
              "      <td>17:43:33</td>\n",
              "      <td>Who are these expertsCertainly not the health ...</td>\n",
              "      <td>0</td>\n",
              "    </tr>\n",
              "    <tr>\n",
              "      <th>3</th>\n",
              "      <td>1268236896641024005</td>\n",
              "      <td>2020-06-03</td>\n",
              "      <td>17:43:33</td>\n",
              "      <td>Since the protest and riots killed COVID19 and...</td>\n",
              "      <td>0</td>\n",
              "    </tr>\n",
              "    <tr>\n",
              "      <th>4</th>\n",
              "      <td>1268236890706231304</td>\n",
              "      <td>2020-06-03</td>\n",
              "      <td>17:43:32</td>\n",
              "      <td>COVID19 Itaewondaughter with braces sucks step...</td>\n",
              "      <td>0</td>\n",
              "    </tr>\n",
              "  </tbody>\n",
              "</table>\n",
              "</div>"
            ],
            "text/plain": [
              "                    id  ... Retweet_count\n",
              "0  1268236906426482688  ...             0\n",
              "1  1268236898935492609  ...             0\n",
              "2  1268236897794633732  ...             0\n",
              "3  1268236896641024005  ...             0\n",
              "4  1268236890706231304  ...             0\n",
              "\n",
              "[5 rows x 5 columns]"
            ]
          },
          "metadata": {
            "tags": []
          },
          "execution_count": 11
        }
      ]
    },
    {
      "cell_type": "code",
      "metadata": {
        "id": "8K8N5yEeKxF4",
        "colab_type": "code",
        "colab": {
          "base_uri": "https://localhost:8080/",
          "height": 204
        },
        "outputId": "651d5ed1-e085-4c22-a742-cb9c9d2ddd55"
      },
      "source": [
        "#adding polarity and subjectivity\n",
        "from textblob import sentiments\n",
        "def getpolarity(text):\n",
        "    blob = TextBlob(text)\n",
        "    sent = blob.sentiment.polarity\n",
        "    return sent\n",
        "\n",
        "def getsubjectivity(text):\n",
        "    blob = TextBlob(text)\n",
        "    sent = blob.sentiment.subjectivity\n",
        "    return sent\n",
        "twitter_df['polarity']  = twitter_df['Tweet'].apply(getpolarity)\n",
        "twitter_df['subjectivity']  = twitter_df['Tweet'].apply(getsubjectivity)\n",
        "twitter_df.head()"
      ],
      "execution_count": 12,
      "outputs": [
        {
          "output_type": "execute_result",
          "data": {
            "text/html": [
              "<div>\n",
              "<style scoped>\n",
              "    .dataframe tbody tr th:only-of-type {\n",
              "        vertical-align: middle;\n",
              "    }\n",
              "\n",
              "    .dataframe tbody tr th {\n",
              "        vertical-align: top;\n",
              "    }\n",
              "\n",
              "    .dataframe thead th {\n",
              "        text-align: right;\n",
              "    }\n",
              "</style>\n",
              "<table border=\"1\" class=\"dataframe\">\n",
              "  <thead>\n",
              "    <tr style=\"text-align: right;\">\n",
              "      <th></th>\n",
              "      <th>id</th>\n",
              "      <th>Date</th>\n",
              "      <th>Time</th>\n",
              "      <th>Tweet</th>\n",
              "      <th>Retweet_count</th>\n",
              "      <th>polarity</th>\n",
              "      <th>subjectivity</th>\n",
              "    </tr>\n",
              "  </thead>\n",
              "  <tbody>\n",
              "    <tr>\n",
              "      <th>0</th>\n",
              "      <td>1268236906426482688</td>\n",
              "      <td>2020-06-03</td>\n",
              "      <td>17:43:35</td>\n",
              "      <td>Korea COVID19EroticaXNaturally Busty Gabbie Ca...</td>\n",
              "      <td>0</td>\n",
              "      <td>0.000000</td>\n",
              "      <td>0.000000</td>\n",
              "    </tr>\n",
              "    <tr>\n",
              "      <th>1</th>\n",
              "      <td>1268236898935492609</td>\n",
              "      <td>2020-06-03</td>\n",
              "      <td>17:43:34</td>\n",
              "      <td>Let the great covid19 live on till 2021..</td>\n",
              "      <td>0</td>\n",
              "      <td>0.468182</td>\n",
              "      <td>0.625000</td>\n",
              "    </tr>\n",
              "    <tr>\n",
              "      <th>2</th>\n",
              "      <td>1268236897794633732</td>\n",
              "      <td>2020-06-03</td>\n",
              "      <td>17:43:33</td>\n",
              "      <td>Who are these expertsCertainly not the health ...</td>\n",
              "      <td>0</td>\n",
              "      <td>0.000000</td>\n",
              "      <td>0.000000</td>\n",
              "    </tr>\n",
              "    <tr>\n",
              "      <th>3</th>\n",
              "      <td>1268236896641024005</td>\n",
              "      <td>2020-06-03</td>\n",
              "      <td>17:43:33</td>\n",
              "      <td>Since the protest and riots killed COVID19 and...</td>\n",
              "      <td>0</td>\n",
              "      <td>-0.122222</td>\n",
              "      <td>0.144444</td>\n",
              "    </tr>\n",
              "    <tr>\n",
              "      <th>4</th>\n",
              "      <td>1268236890706231304</td>\n",
              "      <td>2020-06-03</td>\n",
              "      <td>17:43:32</td>\n",
              "      <td>COVID19 Itaewondaughter with braces sucks step...</td>\n",
              "      <td>0</td>\n",
              "      <td>-0.300000</td>\n",
              "      <td>0.300000</td>\n",
              "    </tr>\n",
              "  </tbody>\n",
              "</table>\n",
              "</div>"
            ],
            "text/plain": [
              "                    id        Date  ...  polarity subjectivity\n",
              "0  1268236906426482688  2020-06-03  ...  0.000000     0.000000\n",
              "1  1268236898935492609  2020-06-03  ...  0.468182     0.625000\n",
              "2  1268236897794633732  2020-06-03  ...  0.000000     0.000000\n",
              "3  1268236896641024005  2020-06-03  ... -0.122222     0.144444\n",
              "4  1268236890706231304  2020-06-03  ... -0.300000     0.300000\n",
              "\n",
              "[5 rows x 7 columns]"
            ]
          },
          "metadata": {
            "tags": []
          },
          "execution_count": 12
        }
      ]
    },
    {
      "cell_type": "code",
      "metadata": {
        "id": "KoBIm2-4uwyp",
        "colab_type": "code",
        "outputId": "7ed97c95-8284-4852-dc57-cd0ab617a7f8",
        "colab": {
          "base_uri": "https://localhost:8080/",
          "height": 419
        }
      },
      "source": [
        "#adding sentiment \n",
        "def category(text):\n",
        "  blob1 = TextBlob(text)\n",
        "  sent = blob1.sentiment.polarity\n",
        "  if sent>0:\n",
        "    status = \"Positive\"\n",
        "  elif sent==0:\n",
        "    status = \"Neutral\"\n",
        "  else:\n",
        "    status = \"Negative\"\n",
        "  return status\n",
        "twitter_df['Sentiment']  = twitter_df['Tweet'].apply(category)\n",
        "twitter_df.head(500)\n"
      ],
      "execution_count": 13,
      "outputs": [
        {
          "output_type": "execute_result",
          "data": {
            "text/html": [
              "<div>\n",
              "<style scoped>\n",
              "    .dataframe tbody tr th:only-of-type {\n",
              "        vertical-align: middle;\n",
              "    }\n",
              "\n",
              "    .dataframe tbody tr th {\n",
              "        vertical-align: top;\n",
              "    }\n",
              "\n",
              "    .dataframe thead th {\n",
              "        text-align: right;\n",
              "    }\n",
              "</style>\n",
              "<table border=\"1\" class=\"dataframe\">\n",
              "  <thead>\n",
              "    <tr style=\"text-align: right;\">\n",
              "      <th></th>\n",
              "      <th>id</th>\n",
              "      <th>Date</th>\n",
              "      <th>Time</th>\n",
              "      <th>Tweet</th>\n",
              "      <th>Retweet_count</th>\n",
              "      <th>polarity</th>\n",
              "      <th>subjectivity</th>\n",
              "      <th>Sentiment</th>\n",
              "    </tr>\n",
              "  </thead>\n",
              "  <tbody>\n",
              "    <tr>\n",
              "      <th>0</th>\n",
              "      <td>1268236906426482688</td>\n",
              "      <td>2020-06-03</td>\n",
              "      <td>17:43:35</td>\n",
              "      <td>Korea COVID19EroticaXNaturally Busty Gabbie Ca...</td>\n",
              "      <td>0</td>\n",
              "      <td>0.000000</td>\n",
              "      <td>0.000000</td>\n",
              "      <td>Neutral</td>\n",
              "    </tr>\n",
              "    <tr>\n",
              "      <th>1</th>\n",
              "      <td>1268236898935492609</td>\n",
              "      <td>2020-06-03</td>\n",
              "      <td>17:43:34</td>\n",
              "      <td>Let the great covid19 live on till 2021..</td>\n",
              "      <td>0</td>\n",
              "      <td>0.468182</td>\n",
              "      <td>0.625000</td>\n",
              "      <td>Positive</td>\n",
              "    </tr>\n",
              "    <tr>\n",
              "      <th>2</th>\n",
              "      <td>1268236897794633732</td>\n",
              "      <td>2020-06-03</td>\n",
              "      <td>17:43:33</td>\n",
              "      <td>Who are these expertsCertainly not the health ...</td>\n",
              "      <td>0</td>\n",
              "      <td>0.000000</td>\n",
              "      <td>0.000000</td>\n",
              "      <td>Neutral</td>\n",
              "    </tr>\n",
              "    <tr>\n",
              "      <th>3</th>\n",
              "      <td>1268236896641024005</td>\n",
              "      <td>2020-06-03</td>\n",
              "      <td>17:43:33</td>\n",
              "      <td>Since the protest and riots killed COVID19 and...</td>\n",
              "      <td>0</td>\n",
              "      <td>-0.122222</td>\n",
              "      <td>0.144444</td>\n",
              "      <td>Negative</td>\n",
              "    </tr>\n",
              "    <tr>\n",
              "      <th>4</th>\n",
              "      <td>1268236890706231304</td>\n",
              "      <td>2020-06-03</td>\n",
              "      <td>17:43:32</td>\n",
              "      <td>COVID19 Itaewondaughter with braces sucks step...</td>\n",
              "      <td>0</td>\n",
              "      <td>-0.300000</td>\n",
              "      <td>0.300000</td>\n",
              "      <td>Negative</td>\n",
              "    </tr>\n",
              "    <tr>\n",
              "      <th>...</th>\n",
              "      <td>...</td>\n",
              "      <td>...</td>\n",
              "      <td>...</td>\n",
              "      <td>...</td>\n",
              "      <td>...</td>\n",
              "      <td>...</td>\n",
              "      <td>...</td>\n",
              "      <td>...</td>\n",
              "    </tr>\n",
              "    <tr>\n",
              "      <th>495</th>\n",
              "      <td>1268234692244967425</td>\n",
              "      <td>2020-06-03</td>\n",
              "      <td>17:34:47</td>\n",
              "      <td>This blog on latestGateway news. Huge thanks t...</td>\n",
              "      <td>0</td>\n",
              "      <td>0.300000</td>\n",
              "      <td>0.550000</td>\n",
              "      <td>Positive</td>\n",
              "    </tr>\n",
              "    <tr>\n",
              "      <th>496</th>\n",
              "      <td>1268234688868614145</td>\n",
              "      <td>2020-06-03</td>\n",
              "      <td>17:34:47</td>\n",
              "      <td>COVID19 CanalOT18M Horny step sister with hot ...</td>\n",
              "      <td>0</td>\n",
              "      <td>0.050000</td>\n",
              "      <td>0.483333</td>\n",
              "      <td>Positive</td>\n",
              "    </tr>\n",
              "    <tr>\n",
              "      <th>497</th>\n",
              "      <td>1268234679561437184</td>\n",
              "      <td>2020-06-03</td>\n",
              "      <td>17:34:44</td>\n",
              "      <td>“The same broadsweeping structural racism that...</td>\n",
              "      <td>0</td>\n",
              "      <td>-0.083333</td>\n",
              "      <td>0.279167</td>\n",
              "      <td>Negative</td>\n",
              "    </tr>\n",
              "    <tr>\n",
              "      <th>498</th>\n",
              "      <td>1268234672192004100</td>\n",
              "      <td>2020-06-03</td>\n",
              "      <td>17:34:43</td>\n",
              "      <td>Large Gatherings Prohibited Due to Alleged Ne...</td>\n",
              "      <td>0</td>\n",
              "      <td>0.031412</td>\n",
              "      <td>0.339529</td>\n",
              "      <td>Positive</td>\n",
              "    </tr>\n",
              "    <tr>\n",
              "      <th>499</th>\n",
              "      <td>1268234670442868737</td>\n",
              "      <td>2020-06-03</td>\n",
              "      <td>17:34:42</td>\n",
              "      <td>I know the focus is on protesting as it should...</td>\n",
              "      <td>1</td>\n",
              "      <td>0.000000</td>\n",
              "      <td>0.000000</td>\n",
              "      <td>Neutral</td>\n",
              "    </tr>\n",
              "  </tbody>\n",
              "</table>\n",
              "<p>500 rows × 8 columns</p>\n",
              "</div>"
            ],
            "text/plain": [
              "                      id        Date  ... subjectivity Sentiment\n",
              "0    1268236906426482688  2020-06-03  ...     0.000000   Neutral\n",
              "1    1268236898935492609  2020-06-03  ...     0.625000  Positive\n",
              "2    1268236897794633732  2020-06-03  ...     0.000000   Neutral\n",
              "3    1268236896641024005  2020-06-03  ...     0.144444  Negative\n",
              "4    1268236890706231304  2020-06-03  ...     0.300000  Negative\n",
              "..                   ...         ...  ...          ...       ...\n",
              "495  1268234692244967425  2020-06-03  ...     0.550000  Positive\n",
              "496  1268234688868614145  2020-06-03  ...     0.483333  Positive\n",
              "497  1268234679561437184  2020-06-03  ...     0.279167  Negative\n",
              "498  1268234672192004100  2020-06-03  ...     0.339529  Positive\n",
              "499  1268234670442868737  2020-06-03  ...     0.000000   Neutral\n",
              "\n",
              "[500 rows x 8 columns]"
            ]
          },
          "metadata": {
            "tags": []
          },
          "execution_count": 13
        }
      ]
    },
    {
      "cell_type": "code",
      "metadata": {
        "id": "h73BlozUvwJ6",
        "colab_type": "code",
        "outputId": "0c4f9ae3-e500-4112-f674-e8a20ed3c91f",
        "colab": {
          "base_uri": "https://localhost:8080/",
          "height": 219
        }
      },
      "source": [
        "#VISUALISATION part starts from here\n",
        "\n",
        "#Plotting the wordcloud \n",
        "allwords  = ' '.join([tweets for tweets in twitter_df['Tweet']])\n",
        "wordcloud = WordCloud(max_font_size=160,width=1200 , height=600,max_words= 200 ).generate(allwords)\n",
        "plt.imshow(wordcloud, cmap = 'plasma',interpolation='bilinear')\n",
        "plt.axis('off')\n",
        "plt.show( )\n"
      ],
      "execution_count": 14,
      "outputs": [
        {
          "output_type": "display_data",
          "data": {
            "image/png": "[encoded data removed]",
            "text/plain": [
              "<Figure size 432x288 with 1 Axes>"
            ]
          },
          "metadata": {
            "tags": [],
            "needs_background": "light"
          }
        }
      ]
    },
    {
      "cell_type": "code",
      "metadata": {
        "id": "1euuV2rNj4GZ",
        "colab_type": "code",
        "outputId": "d03c0296-341c-4b04-8a3b-368d725b62e9",
        "colab": {
          "base_uri": "https://localhost:8080/",
          "height": 336
        }
      },
      "source": [
        "#plotting COUNTER plot\n",
        "import seaborn as sns\n",
        "sns.set(style=\"darkgrid\")\n",
        "sns.countplot(x='Sentiment', data= twitter_df )"
      ],
      "execution_count": 15,
      "outputs": [
        {
          "output_type": "stream",
          "text": [
            "/usr/local/lib/python3.6/dist-packages/statsmodels/tools/_testing.py:19: FutureWarning: pandas.util.testing is deprecated. Use the functions in the public API at pandas.testing instead.\n",
            "  import pandas.util.testing as tm\n"
          ],
          "name": "stderr"
        },
        {
          "output_type": "execute_result",
          "data": {
            "text/plain": [
              "<matplotlib.axes._subplots.AxesSubplot at 0x7f39ab97c6a0>"
            ]
          },
          "metadata": {
            "tags": []
          },
          "execution_count": 15
        },
        {
          "output_type": "display_data",
          "data": {
            "image/png": "[encoded data removed]",
            "text/plain": [
              "<Figure size 432x288 with 1 Axes>"
            ]
          },
          "metadata": {
            "tags": []
          }
        }
      ]
    },
    {
      "cell_type": "code",
      "metadata": {
        "id": "6bO2BocKl56i",
        "colab_type": "code",
        "outputId": "22d73e48-e16e-4c4f-9761-8a90c46cb290",
        "colab": {
          "base_uri": "https://localhost:8080/",
          "height": 427
        }
      },
      "source": [
        "#plotting polarity and subjectivity\n",
        "plt.figure(figsize=(8,6) )\n",
        "for j in range(0,i):\n",
        "  plt.scatter(twitter_df['polarity'],twitter_df['subjectivity'],edgecolor='black',cmap='plasma' )\n",
        "plt.xlabel('Polarity')\n",
        "plt.ylabel('subjectivity')\n",
        "plt.title('SENTIMENT')\n",
        "plt.plot()\n",
        "\n",
        "\n"
      ],
      "execution_count": 16,
      "outputs": [
        {
          "output_type": "execute_result",
          "data": {
            "text/plain": [
              "[]"
            ]
          },
          "metadata": {
            "tags": []
          },
          "execution_count": 16
        },
        {
          "output_type": "display_data",
          "data": {
            "image/png": "[encoded data removed]",
            "text/plain": [
              "<Figure size 576x432 with 1 Axes>"
            ]
          },
          "metadata": {
            "tags": []
          }
        }
      ]
    },
    {
      "cell_type": "code",
      "metadata": {
        "id": "F3PUDKFrc8c_",
        "colab_type": "code",
        "outputId": "2d665b5e-33be-4888-baf9-23fad7912646",
        "colab": {
          "base_uri": "https://localhost:8080/",
          "height": 238
        }
      },
      "source": [
        "import nltk\n",
        "from nltk.corpus import stopwords\n",
        "nltk.download('stopwords')\n",
        "  \n",
        "def text_process(tweet):\n",
        "  #msg = tweet.split()\n",
        "  #for word in msg :\n",
        "   # if word.lower() not in stopwords.words('english'):\n",
        "    #  pass\n",
        "  #return word\n",
        "  return [word for word in tweet.split() if word.lower() not in stopwords.words('english')]\n",
        "      \n",
        "twitter_df['Tweet'].apply(text_process)\n",
        "twitter_df.head()"
      ],
      "execution_count": 17,
      "outputs": [
        {
          "output_type": "stream",
          "text": [
            "[nltk_data] Downloading package stopwords to /root/nltk_data...\n",
            "[nltk_data]   Unzipping corpora/stopwords.zip.\n"
          ],
          "name": "stdout"
        },
        {
          "output_type": "execute_result",
          "data": {
            "text/html": [
              "<div>\n",
              "<style scoped>\n",
              "    .dataframe tbody tr th:only-of-type {\n",
              "        vertical-align: middle;\n",
              "    }\n",
              "\n",
              "    .dataframe tbody tr th {\n",
              "        vertical-align: top;\n",
              "    }\n",
              "\n",
              "    .dataframe thead th {\n",
              "        text-align: right;\n",
              "    }\n",
              "</style>\n",
              "<table border=\"1\" class=\"dataframe\">\n",
              "  <thead>\n",
              "    <tr style=\"text-align: right;\">\n",
              "      <th></th>\n",
              "      <th>id</th>\n",
              "      <th>Date</th>\n",
              "      <th>Time</th>\n",
              "      <th>Tweet</th>\n",
              "      <th>Retweet_count</th>\n",
              "      <th>polarity</th>\n",
              "      <th>subjectivity</th>\n",
              "      <th>Sentiment</th>\n",
              "    </tr>\n",
              "  </thead>\n",
              "  <tbody>\n",
              "    <tr>\n",
              "      <th>0</th>\n",
              "      <td>1268236906426482688</td>\n",
              "      <td>2020-06-03</td>\n",
              "      <td>17:43:35</td>\n",
              "      <td>Korea COVID19EroticaXNaturally Busty Gabbie Ca...</td>\n",
              "      <td>0</td>\n",
              "      <td>0.000000</td>\n",
              "      <td>0.000000</td>\n",
              "      <td>Neutral</td>\n",
              "    </tr>\n",
              "    <tr>\n",
              "      <th>1</th>\n",
              "      <td>1268236898935492609</td>\n",
              "      <td>2020-06-03</td>\n",
              "      <td>17:43:34</td>\n",
              "      <td>Let the great covid19 live on till 2021..</td>\n",
              "      <td>0</td>\n",
              "      <td>0.468182</td>\n",
              "      <td>0.625000</td>\n",
              "      <td>Positive</td>\n",
              "    </tr>\n",
              "    <tr>\n",
              "      <th>2</th>\n",
              "      <td>1268236897794633732</td>\n",
              "      <td>2020-06-03</td>\n",
              "      <td>17:43:33</td>\n",
              "      <td>Who are these expertsCertainly not the health ...</td>\n",
              "      <td>0</td>\n",
              "      <td>0.000000</td>\n",
              "      <td>0.000000</td>\n",
              "      <td>Neutral</td>\n",
              "    </tr>\n",
              "    <tr>\n",
              "      <th>3</th>\n",
              "      <td>1268236896641024005</td>\n",
              "      <td>2020-06-03</td>\n",
              "      <td>17:43:33</td>\n",
              "      <td>Since the protest and riots killed COVID19 and...</td>\n",
              "      <td>0</td>\n",
              "      <td>-0.122222</td>\n",
              "      <td>0.144444</td>\n",
              "      <td>Negative</td>\n",
              "    </tr>\n",
              "    <tr>\n",
              "      <th>4</th>\n",
              "      <td>1268236890706231304</td>\n",
              "      <td>2020-06-03</td>\n",
              "      <td>17:43:32</td>\n",
              "      <td>COVID19 Itaewondaughter with braces sucks step...</td>\n",
              "      <td>0</td>\n",
              "      <td>-0.300000</td>\n",
              "      <td>0.300000</td>\n",
              "      <td>Negative</td>\n",
              "    </tr>\n",
              "  </tbody>\n",
              "</table>\n",
              "</div>"
            ],
            "text/plain": [
              "                    id        Date      Time  ...  polarity  subjectivity  Sentiment\n",
              "0  1268236906426482688  2020-06-03  17:43:35  ...  0.000000      0.000000    Neutral\n",
              "1  1268236898935492609  2020-06-03  17:43:34  ...  0.468182      0.625000   Positive\n",
              "2  1268236897794633732  2020-06-03  17:43:33  ...  0.000000      0.000000    Neutral\n",
              "3  1268236896641024005  2020-06-03  17:43:33  ... -0.122222      0.144444   Negative\n",
              "4  1268236890706231304  2020-06-03  17:43:32  ... -0.300000      0.300000   Negative\n",
              "\n",
              "[5 rows x 8 columns]"
            ]
          },
          "metadata": {
            "tags": []
          },
          "execution_count": 17
        }
      ]
    },
    {
      "cell_type": "code",
      "metadata": {
        "id": "d8aFuB9ujnTF",
        "colab_type": "code",
        "colab": {}
      },
      "source": [
        "#fitting Tweet data \n",
        "from sklearn.feature_extraction.text import CountVectorizer,TfidfTransformer\n",
        "bow_transfromer = CountVectorizer(analyzer=text_process).fit(twitter_df['Tweet'])\n"
      ],
      "execution_count": 0,
      "outputs": []
    },
    {
      "cell_type": "code",
      "metadata": {
        "id": "7T58pBHRkxRl",
        "colab_type": "code",
        "colab": {}
      },
      "source": [
        "Tweet_bow = bow_transfromer.transform(twitter_df['Tweet'])"
      ],
      "execution_count": 0,
      "outputs": []
    },
    {
      "cell_type": "code",
      "metadata": {
        "id": "4GEH-OYdlNEc",
        "colab_type": "code",
        "colab": {}
      },
      "source": [
        "tfidf_transformer = TfidfTransformer().fit(Tweet_bow)\n",
        "tweet_tfidf = tfidf_transformer.transform(Tweet_bow)"
      ],
      "execution_count": 0,
      "outputs": []
    },
    {
      "cell_type": "code",
      "metadata": {
        "id": "jxn6rM7dqEmr",
        "colab_type": "code",
        "colab": {}
      },
      "source": [
        "from sklearn.naive_bayes import MultinomialNB\n",
        "tweet_detect = MultinomialNB().fit(tweet_tfidf,twitter_df['Sentiment'])"
      ],
      "execution_count": 0,
      "outputs": []
    },
    {
      "cell_type": "code",
      "metadata": {
        "id": "xiptNvyXqmZv",
        "colab_type": "code",
        "outputId": "69b559e6-0279-4e48-dbd4-15b6f79c4e52",
        "colab": {
          "base_uri": "https://localhost:8080/",
          "height": 255
        }
      },
      "source": [
        "tweet_pred = tweet_detect.predict(tweet_tfidf)\n",
        "pred_df  = pd.DataFrame(tweet_pred,columns=['Prediction'])\n",
        "\n",
        "net_df = pd.concat([twitter_df['Tweet'],twitter_df['Sentiment'],pred_df],axis = 1)\n",
        "print(net_df )"
      ],
      "execution_count": 22,
      "outputs": [
        {
          "output_type": "stream",
          "text": [
            "                                                  Tweet Sentiment Prediction\n",
            "0     Korea COVID19EroticaXNaturally Busty Gabbie Ca...   Neutral    Neutral\n",
            "1           Let the great covid19 live on till 2021..    Positive   Positive\n",
            "2     Who are these expertsCertainly not the health ...   Neutral    Neutral\n",
            "3     Since the protest and riots killed COVID19 and...  Negative   Positive\n",
            "4     COVID19 Itaewondaughter with braces sucks step...  Negative   Positive\n",
            "...                                                 ...       ...        ...\n",
            "4995   Wow ’s reply towas longer than some of&amp ‘s …   Positive   Positive\n",
            "4996                Today's COVID19 numbers update &gt    Neutral    Neutral\n",
            "4997  Help slow the spread of COVID19 and identify a...  Negative   Negative\n",
            "4998  Todaygeneral news avail 230 pm. Expect questio...  Positive   Positive\n",
            "4999  Bangladesh govt would take legal actions again...  Positive   Positive\n",
            "\n",
            "[5000 rows x 3 columns]\n"
          ],
          "name": "stdout"
        }
      ]
    },
    {
      "cell_type": "code",
      "metadata": {
        "id": "Bt0kVHlz1OgI",
        "colab_type": "code",
        "colab": {}
      },
      "source": [
        "from sklearn.model_selection import train_test_split\n",
        "from sklearn.ensemble import RandomForestClassifier\n",
        "t_train,t_test,s_train,s_test = train_test_split(twitter_df['Tweet'],twitter_df['Sentiment'],test_size = 0.3)\n"
      ],
      "execution_count": 0,
      "outputs": []
    },
    {
      "cell_type": "code",
      "metadata": {
        "id": "GRR0YiUr3cLr",
        "colab_type": "code",
        "colab": {}
      },
      "source": [
        "from sklearn.pipeline import Pipeline\n",
        "pipeline = Pipeline([\n",
        "                     ('bow',CountVectorizer(analyzer=text_process)),\n",
        "                     ('tfidf', TfidfTransformer()),\n",
        "                     ('classifier', RandomForestClassifier())\n",
        "])\n"
      ],
      "execution_count": 0,
      "outputs": []
    },
    {
      "cell_type": "code",
      "metadata": {
        "id": "Xw_BCsui4CI8",
        "colab_type": "code",
        "outputId": "a6c9ed2b-ef7c-4ac9-8f2f-678263841568",
        "colab": {
          "base_uri": "https://localhost:8080/",
          "height": 391
        }
      },
      "source": [
        "pipeline.fit(t_train,s_train)\n"
      ],
      "execution_count": 25,
      "outputs": [
        {
          "output_type": "execute_result",
          "data": {
            "text/plain": [
              "Pipeline(memory=None,\n",
              "         steps=[('bow',\n",
              "                 CountVectorizer(analyzer=<function text_process at 0x7f39add2ebf8>,\n",
              "                                 binary=False, decode_error='strict',\n",
              "                                 dtype=<class 'numpy.int64'>, encoding='utf-8',\n",
              "                                 input='content', lowercase=True, max_df=1.0,\n",
              "                                 max_features=None, min_df=1,\n",
              "                                 ngram_range=(1, 1), preprocessor=None,\n",
              "                                 stop_words=None, strip_accents=None,\n",
              "                                 token_pattern='(?u)\\\\b\\\\w\\\\w+\\\\b...\n",
              "                 RandomForestClassifier(bootstrap=True, ccp_alpha=0.0,\n",
              "                                        class_weight=None, criterion='gini',\n",
              "                                        max_depth=None, max_features='auto',\n",
              "                                        max_leaf_nodes=None, max_samples=None,\n",
              "                                        min_impurity_decrease=0.0,\n",
              "                                        min_impurity_split=None,\n",
              "                                        min_samples_leaf=1, min_samples_split=2,\n",
              "                                        min_weight_fraction_leaf=0.0,\n",
              "                                        n_estimators=100, n_jobs=None,\n",
              "                                        oob_score=False, random_state=None,\n",
              "                                        verbose=0, warm_start=False))],\n",
              "         verbose=False)"
            ]
          },
          "metadata": {
            "tags": []
          },
          "execution_count": 25
        }
      ]
    },
    {
      "cell_type": "code",
      "metadata": {
        "id": "7iWrF19B4Jo9",
        "colab_type": "code",
        "outputId": "2f9b6355-eb34-47c7-f7ec-760a1b2e0116",
        "colab": {
          "base_uri": "https://localhost:8080/",
          "height": 255
        }
      },
      "source": [
        "cc = pd.concat([t_test,s_test],axis=1)\n",
        "prediction = pipeline.predict(t_test)\n",
        "prediction = list(prediction)\n",
        "cc['pred'] = prediction\n",
        "\n",
        "\n",
        "print(cc)\n"
      ],
      "execution_count": 26,
      "outputs": [
        {
          "output_type": "stream",
          "text": [
            "                                                  Tweet Sentiment      pred\n",
            "317    Oh yes by all means everyone stay inside and ...   Neutral   Neutral\n",
            "3451  Inquiries aren't enough. Investigations aren't...   Neutral   Neutral\n",
            "731   Have been having some really interesting conve...  Positive  Positive\n",
            "2277  The lockdown has resulted in the total devasta...  Positive   Neutral\n",
            "1970  Don’t plan to celebrate THIS MEMORIAL DAY. Ins...  Negative   Neutral\n",
            "...                                                 ...       ...       ...\n",
            "3918  My analysis on COVID19 response in Armenia Fai...  Negative  Positive\n",
            "3758  ON AIR COVID19 Ethiopian Presidentdiscusses re...   Neutral   Neutral\n",
            "1066  World COVID19 Cases As At 032.06.2020 1030hrs ...   Neutral   Neutral\n",
            "1182  Foreclosure activity is nonexistent due to COV...  Positive  Negative\n",
            "3117  The lockdown is gradually easing off and that ...  Positive  Positive\n",
            "\n",
            "[1500 rows x 3 columns]\n"
          ],
          "name": "stdout"
        }
      ]
    },
    {
      "cell_type": "code",
      "metadata": {
        "id": "xlCeacrFdKRw",
        "colab_type": "code",
        "outputId": "9cfcc9c1-759a-4fe9-eabc-20b95987813c",
        "colab": {
          "base_uri": "https://localhost:8080/",
          "height": 187
        }
      },
      "source": [
        "from sklearn.metrics import  classification_report\n",
        "print(classification_report(s_test,prediction))"
      ],
      "execution_count": 27,
      "outputs": [
        {
          "output_type": "stream",
          "text": [
            "              precision    recall  f1-score   support\n",
            "\n",
            "    Negative       0.88      0.36      0.51       221\n",
            "     Neutral       0.68      0.95      0.79       683\n",
            "    Positive       0.87      0.67      0.76       596\n",
            "\n",
            "    accuracy                           0.75      1500\n",
            "   macro avg       0.81      0.66      0.69      1500\n",
            "weighted avg       0.79      0.75      0.74      1500\n",
            "\n"
          ],
          "name": "stdout"
        }
      ]
    }
  ]
}